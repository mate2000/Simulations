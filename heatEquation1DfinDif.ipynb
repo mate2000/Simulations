{
  "nbformat": 4,
  "nbformat_minor": 0,
  "metadata": {
    "colab": {
      "name": "heatEquation1DfinDif.ipynb",
      "provenance": []
    },
    "kernelspec": {
      "name": "python3",
      "display_name": "Python 3"
    }
  },
  "cells": [
    {
      "cell_type": "markdown",
      "metadata": {
        "id": "JEYvzlyMeAqJ"
      },
      "source": [
        "#Este cuaderno esta relacionado con la solución de Ecuaciones Diferenciales Parciales. Inicialmente vamos a resolver la Ecuación de Calor 1D "
      ]
    },
    {
      "cell_type": "code",
      "metadata": {
        "id": "pvfNvFWKgHlG"
      },
      "source": [
        "import numpy as np"
      ],
      "execution_count": 2,
      "outputs": []
    },
    {
      "cell_type": "code",
      "metadata": {
        "id": "EyMHiju-fndk"
      },
      "source": [
        "# solución analítica\r\n",
        "alpha=1\r\n",
        "a=0\r\n",
        "b=1\r\n",
        "nx=101\r\n",
        "X = np.linspace(a,b,nx)\r\n",
        "L=b-a\r\n",
        "\r\n",
        "def u(x,t):\r\n",
        " return 6*np.sin(np.pi*x/L)*np.exp(-(1.0/alpha)*(np.pi/L)**2*t)"
      ],
      "execution_count": 3,
      "outputs": []
    },
    {
      "cell_type": "code",
      "metadata": {
        "id": "fAkxZwsVgLUz"
      },
      "source": [
        "def solu_eq_calor(alpha,a,b,t0,nt,nx,dt,f):\r\n",
        "  # a: edge on the left\r\n",
        "  # b: edge on the right\r\n",
        "  # nt: number of time samples\r\n",
        "  # t0: first time sample\r\n",
        "  # nx: number of spatial samples\r\n",
        "  # dt: time sampling rate\r\n",
        "  # f: initial conditions. We assume 0 boundary conditions.\r\n",
        "  L=b-a\r\n",
        "  dx=L/(nx-1)\r\n",
        "  gamma=alpha*dt/dx**2\r\n",
        "  stab_cond=dx**2/(2*alpha)\r\n",
        "\r\n",
        "  # chequeo por estabilidad\r\n",
        "  if dt >= stab_cond:\r\n",
        "    print(\"error: la condición de estabilidad fue violada\")\r\n",
        "    print(\" dt=%5.2f\" %(dt))\r\n",
        "    print(\" debe ser menor que dx**2/(2*alpha)=%10.8f\" %(stab_cond))\r\n",
        "    print(\" gamma debe ser menor que 1/2 pero tenemos\"\r\n",
        "    \" que gamma=%10.9f\" %(gamma))\r\n",
        "    return\r\n",
        "\r\n",
        "  tmax=nt*dt\r\n",
        "  t=np.arange(t0,tmax,dt)\r\n",
        "\r\n",
        "  #inicialice el vector w\r\n",
        "  w=np.zeros((nx,nt))\r\n",
        "  X = np.linspace(a,b,w.shape[0])\r\n",
        "  print(\"dimensiones de w\", w.shape)\r\n",
        "\r\n",
        "  # condición inicial\r\n",
        "  for i in range(nx):\r\n",
        "    w[i,0]=f(X[i])\r\n",
        "\r\n",
        "  # condiciones de frontera\r\n",
        "  for j in range(nt):\r\n",
        "    w[0,j]=0\r\n",
        "    w[nx-1,j]=0\r\n",
        "\r\n",
        "  # ciclo sobre tiempos\r\n",
        "  for j in range(0,nt-1):\r\n",
        "    # ciclo sobre coordenas x\r\n",
        "    for i in range(1,nx-1):\r\n",
        "      w[i,j+1]=(1-2*gamma)*w[i,j]+ gamma*(w[i+1,j]+ w[i-1,j])\r\n",
        "      \r\n",
        "  return w"
      ],
      "execution_count": 4,
      "outputs": []
    },
    {
      "cell_type": "code",
      "metadata": {
        "id": "3cQyrBlCgF2X"
      },
      "source": [
        "# Parámetros del experimento\r\n",
        "#alpha=1\r\n",
        "#a=0\r\n",
        "#b=1\r\n",
        "t0=0\r\n",
        "nt=2\r\n",
        "#nx=101\r\n",
        "dt=0.1\r\n",
        "#L=b-a"
      ],
      "execution_count": 6,
      "outputs": []
    },
    {
      "cell_type": "code",
      "metadata": {
        "id": "ZZk4QkhBizGx"
      },
      "source": [
        "# definición de la condición inicial\r\n",
        "def f(x):\r\n",
        "  return 6*np.sin(np.pi*x/L)"
      ],
      "execution_count": 8,
      "outputs": []
    },
    {
      "cell_type": "code",
      "metadata": {
        "colab": {
          "base_uri": "https://localhost:8080/"
        },
        "id": "DZkZcw8si0wr",
        "outputId": "74fdc67e-fa04-4b08-81bd-b086dbbd7e1b"
      },
      "source": [
        "solu_eq_calor(alpha,a,b,t0,nt,nx,dt,f)"
      ],
      "execution_count": 9,
      "outputs": [
        {
          "output_type": "stream",
          "text": [
            "error: la condición de estabilidad fue violada\n",
            " dt= 0.10\n",
            " debe ser menor que dx**2/(2*alpha)=0.00005000\n",
            " gamma debe ser menor que 1/2 pero tenemos que gamma=1000.000000000\n"
          ],
          "name": "stdout"
        }
      ]
    },
    {
      "cell_type": "code",
      "metadata": {
        "colab": {
          "base_uri": "https://localhost:8080/"
        },
        "id": "3EZH95adjDHo",
        "outputId": "3e49a262-776e-414a-e71d-dbcfe5a5a672"
      },
      "source": [
        "dt=0.00001\r\n",
        "nt=40001\r\n",
        "w=solu_eq_calor(alpha,a,b,t0,nt,nx,dt,f)"
      ],
      "execution_count": 10,
      "outputs": [
        {
          "output_type": "stream",
          "text": [
            "dimensiones de w (101, 40001)\n"
          ],
          "name": "stdout"
        }
      ]
    },
    {
      "cell_type": "code",
      "metadata": {
        "id": "XznhDfBnjkKp"
      },
      "source": [
        "import matplotlib.pyplot as plt\r\n"
      ],
      "execution_count": 14,
      "outputs": []
    },
    {
      "cell_type": "code",
      "metadata": {
        "id": "hJO7twVhjVVP"
      },
      "source": [
        "#grafique las columnas de w\r\n",
        "params={'legend.fontsize':5,'legend.handlength':1}\r\n",
        "plt.xlabel(r\"$x$\")\r\n",
        "plt.ylabel(r'$calor$')\r\n",
        "plt.title(r'Curvas de calor. Solución numérica')\r\n",
        "X = np.linspace(a,b,w.shape[0])\r\n",
        "\r\n",
        "for j in range(0,nt,10000):\r\n",
        "  t=j*dt\r\n",
        "  plt.plot(X,w[:,j], label=str(round(t,1)) + ' seg')\r\n",
        "  plt.legend(labelspacing=1, title=\"tiempo\")\r\n",
        "  plt.grid(True)\r\n",
        "  plt.show()"
      ],
      "execution_count": null,
      "outputs": []
    }
  ]
}