{
  "nbformat": 4,
  "nbformat_minor": 0,
  "metadata": {
    "colab": {
      "name": "Copia de METODOS II.ipynb",
      "provenance": []
    },
    "kernelspec": {
      "name": "python3",
      "display_name": "Python 3"
    }
  },
  "cells": [
    {
      "cell_type": "markdown",
      "metadata": {
        "id": "qcqZrxpJ6ql4"
      },
      "source": [
        "## Algoritmo para resolver un sistema $Ax = b$ por el método de iteración de Jacobi\r\n",
        "\r\n",
        "#### Implementacion matricial (vectorizada)"
      ]
    },
    {
      "cell_type": "code",
      "metadata": {
        "id": "__T-Vwsk624Z"
      },
      "source": [
        "import numpy as np\r\n",
        "from numpy import linalg as LA"
      ],
      "execution_count": 2,
      "outputs": []
    },
    {
      "cell_type": "code",
      "metadata": {
        "id": "HyiuKruc6Vut"
      },
      "source": [
        "def Jacobi(A,b,nmax,tol):\r\n",
        "  n=len(b)\r\n",
        "  # extract diagonal as a vector\r\n",
        "  D=np.diag(A)\r\n",
        "  # substract diagonal as a matrix (call \"diag\" again)\r\n",
        "  LU = A-np.diag(D)\r\n",
        "  x=np.zeros(n)\r\n",
        "  k=0\r\n",
        "  error=10\r\n",
        "  while ( k < nmax and tol < error):\r\n",
        "    k +=1\r\n",
        "    xnew=(b-np.dot(LU,x))/D\r\n",
        "    error=LA.norm(xnew-x)\r\n",
        "    print(\"solucion x para la iteracion k= %2d con error %5.4f\"%(k,error))\r\n",
        "    print(\" \",xnew)\r\n",
        "    x=xnew\r\n",
        "  if k==nmax:\r\n",
        "    print(\"maximo numero de iteraciones fue alcanzado. \")\r\n",
        "    print(\"probablemente no hay convegencia \")"
      ],
      "execution_count": 1,
      "outputs": []
    },
    {
      "cell_type": "code",
      "metadata": {
        "id": "xsaHv1yG6Yug"
      },
      "source": [
        "A = np.array([[5.,-2.,3.],\r\n",
        "              [-3.,8.,1.],\r\n",
        "              [-3.,-1.,-6.]])"
      ],
      "execution_count": 3,
      "outputs": []
    },
    {
      "cell_type": "code",
      "metadata": {
        "id": "QGDkG2Td6fdc"
      },
      "source": [
        "b = np.array([-1.,4.,0.])"
      ],
      "execution_count": 4,
      "outputs": []
    },
    {
      "cell_type": "code",
      "metadata": {
        "id": "YJJkoSOl6hM7"
      },
      "source": [
        "nmax=1000\r\n",
        "tol=0.0001"
      ],
      "execution_count": 5,
      "outputs": []
    },
    {
      "cell_type": "code",
      "metadata": {
        "colab": {
          "base_uri": "https://localhost:8080/"
        },
        "id": "RgWldYvw6kaY",
        "outputId": "b4c31098-9d72-4ab8-a8fd-163563056cf1"
      },
      "source": [
        "Jacobi(A,b,nmax,tol)"
      ],
      "execution_count": 6,
      "outputs": [
        {
          "output_type": "stream",
          "text": [
            "solucion x para la iteracion k=  1 con error 0.5385\n",
            "  [-0.2  0.5 -0. ]\n",
            "solucion x para la iteracion k=  2 con error 0.2142\n",
            "  [0.         0.425      0.01666667]\n",
            "solucion x para la iteracion k=  3 con error 0.1207\n",
            "  [-0.04        0.49791667 -0.07083333]\n",
            "solucion x para la iteracion k=  4 con error 0.0821\n",
            "  [ 0.04166667  0.49385417 -0.06298611]\n",
            "solucion x para la iteracion k=  5 con error 0.0503\n",
            "  [ 0.03533333  0.52349826 -0.10314236]\n",
            "solucion x para la iteracion k=  6 con error 0.0361\n",
            "  [ 0.07128472  0.5261428  -0.10491638]\n",
            "solucion x para la iteracion k=  7 con error 0.0231\n",
            "  [ 0.07340694  0.53984632 -0.12333283]\n",
            "solucion x para la iteracion k=  8 con error 0.0171\n",
            "  [ 0.08993822  0.54294421 -0.12667786]\n",
            "solucion x para la iteracion k=  9 con error 0.0115\n",
            "  [ 0.0931844   0.54956157 -0.13545981]\n",
            "solucion x para la iteracion k= 10 con error 0.0087\n",
            "  [ 0.10110051  0.55187663 -0.13818579]\n",
            "solucion x para la iteracion k= 11 con error 0.0060\n",
            "  [ 0.10366213  0.55518592 -0.14252969]\n",
            "solucion x para la iteracion k= 12 con error 0.0046\n",
            "  [ 0.10759218  0.55668951 -0.14436205]\n",
            "solucion x para la iteracion k= 13 con error 0.0033\n",
            "  [ 0.10929303  0.55839233 -0.14657768]\n",
            "solucion x para la iteracion k= 14 con error 0.0025\n",
            "  [ 0.11130354  0.5593071  -0.1477119 ]\n",
            "solucion x para la iteracion k= 15 con error 0.0018\n",
            "  [ 0.11234998  0.56020281 -0.14886962]\n",
            "solucion x para la iteracion k= 16 con error 0.0014\n",
            "  [ 0.1134029   0.56073995 -0.14954213]\n",
            "solucion x para la iteracion k= 17 con error 0.0010\n",
            "  [ 0.11402125  0.56121885 -0.15015811]\n",
            "solucion x para la iteracion k= 18 con error 0.0007\n",
            "  [ 0.1145824   0.56152773 -0.1505471 ]\n",
            "solucion x para la iteracion k= 19 con error 0.0006\n",
            "  [ 0.11493935  0.56178679 -0.15087916]\n",
            "solucion x para la iteracion k= 20 con error 0.0004\n",
            "  [ 0.11524221  0.56196215 -0.15110081]\n",
            "solucion x para la iteracion k= 21 con error 0.0003\n",
            "  [ 0.11544535  0.56210343 -0.15128146]\n",
            "solucion x para la iteracion k= 22 con error 0.0002\n",
            "  [ 0.11561025  0.56220219 -0.15140658]\n",
            "solucion x para la iteracion k= 23 con error 0.0002\n",
            "  [ 0.11572482  0.56227967 -0.15150549]\n",
            "solucion x para la iteracion k= 24 con error 0.0001\n",
            "  [ 0.11581516  0.56233499 -0.15157569]\n",
            "solucion x para la iteracion k= 25 con error 0.0001\n",
            "  [ 0.11587941  0.56237765 -0.15163008]\n"
          ],
          "name": "stdout"
        }
      ]
    },
    {
      "cell_type": "code",
      "metadata": {
        "id": "NyxYSKVO6lA-"
      },
      "source": [
        ""
      ],
      "execution_count": 6,
      "outputs": []
    }
  ]
}